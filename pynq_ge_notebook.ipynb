{
 "cells": [
  {
   "cell_type": "code",
   "execution_count": 1,
   "id": "7fd992c4",
   "metadata": {
    "scrolled": true
   },
   "outputs": [],
   "source": [
    "# Import necessary libraries\n",
    "from pynq import Overlay, allocate\n",
    "import numpy as np\n",
    "import timeit"
   ]
  },
  {
   "cell_type": "code",
   "execution_count": 2,
   "id": "d9136462",
   "metadata": {},
   "outputs": [
    {
     "data": {
      "application/javascript": [
       "\n",
       "try {\n",
       "require(['notebook/js/codecell'], function(codecell) {\n",
       "  codecell.CodeCell.options_default.highlight_modes[\n",
       "      'magic_text/x-csrc'] = {'reg':[/^%%microblaze/]};\n",
       "  Jupyter.notebook.events.one('kernel_ready.Kernel', function(){\n",
       "      Jupyter.notebook.get_cells().map(function(cell){\n",
       "          if (cell.cell_type == 'code'){ cell.auto_highlight(); } }) ;\n",
       "  });\n",
       "});\n",
       "} catch (e) {};\n"
      ]
     },
     "metadata": {},
     "output_type": "display_data"
    },
    {
     "data": {
      "application/javascript": [
       "\n",
       "try {\n",
       "require(['notebook/js/codecell'], function(codecell) {\n",
       "  codecell.CodeCell.options_default.highlight_modes[\n",
       "      'magic_text/x-csrc'] = {'reg':[/^%%pybind11/]};\n",
       "  Jupyter.notebook.events.one('kernel_ready.Kernel', function(){\n",
       "      Jupyter.notebook.get_cells().map(function(cell){\n",
       "          if (cell.cell_type == 'code'){ cell.auto_highlight(); } }) ;\n",
       "  });\n",
       "});\n",
       "} catch (e) {};\n"
      ]
     },
     "metadata": {},
     "output_type": "display_data"
    }
   ],
   "source": [
    "# Load the overlay\n",
    "overlay = Overlay('/home/xilinx/jupyter_notebooks/overlays/pynq_ge_xsa.xsa')"
   ]
  },
  {
   "cell_type": "code",
   "execution_count": 3,
   "id": "f24fffaa",
   "metadata": {},
   "outputs": [],
   "source": [
    "A = None\n",
    "B = None\n",
    "X = None"
   ]
  },
  {
   "cell_type": "code",
   "execution_count": 4,
   "id": "e1547e73",
   "metadata": {},
   "outputs": [],
   "source": [
    "# Allocate memory for the input and output buffers\n",
    "n = 40  # size of your system\n",
    "A = allocate(shape=(n, n), dtype=np.float32)\n",
    "B = allocate(shape=(n,), dtype=np.float32)\n",
    "X = allocate(shape=(n,), dtype=np.float32)\n"
   ]
  },
  {
   "cell_type": "code",
   "execution_count": 5,
   "id": "4af241b2",
   "metadata": {},
   "outputs": [],
   "source": [
    "#Initialize input A and B\n",
    "A[:] = np.random.rand(n, n).astype(np.float32)\n",
    "B[:] = np.random.rand(n).astype(np.float32)"
   ]
  },
  {
   "cell_type": "code",
   "execution_count": 6,
   "id": "5b054dbb",
   "metadata": {
    "scrolled": true
   },
   "outputs": [],
   "source": [
    "ip = overlay.solve_linear_equatio_0\n",
    "#print(overlay.ip_dict[\"solve_linear_equatio_0\"])"
   ]
  },
  {
   "cell_type": "code",
   "execution_count": 7,
   "id": "f22808ef",
   "metadata": {},
   "outputs": [
    {
     "name": "stdout",
     "output_type": "stream",
     "text": [
      "Offset for A: 0x18\n",
      "Offset for B: 0x24\n",
      "Offset for X: 0x30\n"
     ]
    }
   ],
   "source": [
    "\n",
    "ip_metadata = overlay.ip_dict['solve_linear_equatio_0']\n",
    "\n",
    "# Check the offsets for A, B, and X\n",
    "offset_A = ip_metadata['registers']['A_1']['address_offset']\n",
    "offset_B = ip_metadata['registers']['B_1']['address_offset']\n",
    "offset_X = ip_metadata['registers']['X_1']['address_offset']\n",
    "# Print the offsets\n",
    "print(\"Offset for A:\", hex(offset_A))\n",
    "print(\"Offset for B:\", hex(offset_B))\n",
    "print(\"Offset for X:\", hex(offset_X))\n"
   ]
  },
  {
   "cell_type": "code",
   "execution_count": 8,
   "id": "b8d13c57",
   "metadata": {
    "scrolled": true
   },
   "outputs": [
    {
     "name": "stdout",
     "output_type": "stream",
     "text": [
      "[-0.3173108  -0.5308561  -0.18501948  0.69623286  1.0620853   0.26061848\n",
      " -0.25652105 -0.5799922  -0.7429577   1.4791265  -0.60371244 -0.17431477\n",
      "  0.1690831  -0.00311804 -0.40161338 -0.35442713 -0.39086536  0.66906005\n",
      " -0.47539723 -1.0945956   0.07488815 -0.7555655  -0.7828874  -0.88660586\n",
      " -0.65403825  1.4754039  -0.6660709  -0.19028868  1.9427922   0.6995583\n",
      " -0.5350745   0.23272324 -0.60170454 -1.063838    0.8086866   0.4367388\n",
      "  0.7486617  -0.086447    1.1218308   1.2682514 ]\n"
     ]
    }
   ],
   "source": [
    "def run_kernel():\n",
    "    ip.write(0x10, n) \n",
    "    ip.write(0x18, A.physical_address)\n",
    "    ip.write(0x24, B.physical_address)  \n",
    "    ip.write(0x30, X.physical_address) \n",
    "    \n",
    "    ip.write(0x00, 0x1)  # start the IP\n",
    "    while (ip.read(0x00) & 0x2) == 0x0:  # wait for the done bit to be set\n",
    "        pass\n",
    "    \n",
    "    return np.copy(X)\n",
    "\n",
    "result = run_kernel()\n",
    "print(result)"
   ]
  },
  {
   "cell_type": "code",
   "execution_count": 9,
   "id": "88a7b0b4",
   "metadata": {},
   "outputs": [
    {
     "name": "stdout",
     "output_type": "stream",
     "text": [
      "1.8 ms ± 6.96 µs per loop (mean ± std. dev. of 7 runs, 1,000 loops each)\n"
     ]
    }
   ],
   "source": [
    "%%timeit \n",
    "run_kernel()"
   ]
  },
  {
   "cell_type": "code",
   "execution_count": 10,
   "id": "8e2f82a6",
   "metadata": {},
   "outputs": [
    {
     "name": "stdout",
     "output_type": "stream",
     "text": [
      "913 µs ± 9.22 µs per loop (mean ± std. dev. of 7 runs, 1,000 loops each)\n"
     ]
    }
   ],
   "source": [
    "%%timeit\n",
    "np.linalg.solve(A, B)"
   ]
  },
  {
   "cell_type": "code",
   "execution_count": null,
   "id": "8be6dff3",
   "metadata": {},
   "outputs": [],
   "source": []
  }
 ],
 "metadata": {
  "kernelspec": {
   "display_name": "Python 3 (ipykernel)",
   "language": "python",
   "name": "python3"
  },
  "language_info": {
   "codemirror_mode": {
    "name": "ipython",
    "version": 3
   },
   "file_extension": ".py",
   "mimetype": "text/x-python",
   "name": "python",
   "nbconvert_exporter": "python",
   "pygments_lexer": "ipython3",
   "version": "3.10.4"
  }
 },
 "nbformat": 4,
 "nbformat_minor": 5
}
